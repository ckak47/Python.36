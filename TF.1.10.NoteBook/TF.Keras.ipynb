{
 "cells": [
  {
   "cell_type": "code",
   "execution_count": 1,
   "metadata": {},
   "outputs": [
    {
     "name": "stderr",
     "output_type": "stream",
     "text": [
      "Using TensorFlow backend.\n"
     ]
    }
   ],
   "source": [
    "#keras\n",
    "import keras\n",
    "from keras.datasets import mnist\n",
    "from keras.models import Sequential\n",
    "from keras.layers import Dense, Flatten, Conv2D, MaxPooling2D\n",
    "from keras import backend as K\n",
    "import tensorflow as tf\n",
    "tf.keras.backend.clear_session()\n",
    "\n",
    "num_classes = 10\n",
    "img_rows, img_cols = 28, 28\n",
    " \n",
    "# 通过Keras封装好的API加载MNIST数据。其中trainX就是一个60000 * 28 * 28的数组，\n",
    "# trainY是每一张图片对应的数字。\n",
    "(trainX, trainY), (testX, testY) = mnist.load_data(path='E:\\mnist\\mnist.npz')\n",
    "\n",
    "# 根据对图像编码的格式要求来设置输入层的格式。\n",
    "if K.image_data_format() == 'channels_first':\n",
    "    trainX = trainX.reshape(trainX.shape[0], 1, img_rows, img_cols)\n",
    "    testX = testX.reshape(testX.shape[0], 1, img_rows, img_cols)\n",
    "    input_shape = (1, img_rows, img_cols)\n",
    "else:\n",
    "    trainX = trainX.reshape(trainX.shape[0], img_rows, img_cols, 1)\n",
    "    testX = testX.reshape(testX.shape[0], img_rows, img_cols, 1)\n",
    "    input_shape = (img_rows, img_cols, 1)\n",
    "    \n",
    "trainX = trainX.astype('float32')\n",
    "testX = testX.astype('float32')\n",
    "trainX /= 255.0\n",
    "testX /= 255.0\n",
    " \n",
    "# 将标准答案转化为需要的格式（one-hot编码）。\n",
    "trainY = keras.utils.to_categorical(trainY, num_classes)\n",
    "testY = keras.utils.to_categorical(testY, num_classes)"
   ]
  },
  {
   "cell_type": "code",
   "execution_count": 2,
   "metadata": {},
   "outputs": [],
   "source": [
    "model = Sequential()\n",
    "model.add(Conv2D(32, kernel_size=(5, 5), activation='relu', input_shape=input_shape))\n",
    "model.add(MaxPooling2D(pool_size=(2, 2)))\n",
    "model.add(Conv2D(64, (5, 5), activation='relu'))\n",
    "model.add(MaxPooling2D(pool_size=(2, 2)))\n",
    "model.add(Flatten())\n",
    "model.add(Dense(500, activation='relu'))\n",
    "model.add(Dense(num_classes, activation='softmax'))\n",
    " \n",
    "# 定义损失函数、优化函数和评测方法。\n",
    "model.compile(loss=keras.losses.categorical_crossentropy,\n",
    "              optimizer=keras.optimizers.SGD(),\n",
    "              metrics=['accuracy'])"
   ]
  },
  {
   "cell_type": "code",
   "execution_count": 4,
   "metadata": {
    "scrolled": false
   },
   "outputs": [
    {
     "name": "stdout",
     "output_type": "stream",
     "text": [
      "Train on 60000 samples, validate on 10000 samples\n",
      "Epoch 1/20\n",
      "60000/60000 [==============================] - 5s 76us/step - loss: 0.1553 - acc: 0.9544 - val_loss: 0.1549 - val_acc: 0.9537\n",
      "Epoch 2/20\n",
      "60000/60000 [==============================] - 5s 76us/step - loss: 0.1286 - acc: 0.9618 - val_loss: 0.1227 - val_acc: 0.9622\n",
      "Epoch 3/20\n",
      "60000/60000 [==============================] - 5s 77us/step - loss: 0.1097 - acc: 0.9675 - val_loss: 0.1024 - val_acc: 0.9680\n",
      "Epoch 4/20\n",
      "60000/60000 [==============================] - 5s 76us/step - loss: 0.0964 - acc: 0.9714 - val_loss: 0.0894 - val_acc: 0.9719\n",
      "Epoch 5/20\n",
      "60000/60000 [==============================] - 4s 75us/step - loss: 0.0852 - acc: 0.9740 - val_loss: 0.0774 - val_acc: 0.9769\n",
      "Epoch 6/20\n",
      "60000/60000 [==============================] - 5s 76us/step - loss: 0.0783 - acc: 0.9764 - val_loss: 0.0725 - val_acc: 0.9785\n",
      "Epoch 7/20\n",
      "60000/60000 [==============================] - 5s 75us/step - loss: 0.0724 - acc: 0.9781 - val_loss: 0.0619 - val_acc: 0.9804\n",
      "Epoch 8/20\n",
      "60000/60000 [==============================] - 4s 75us/step - loss: 0.0667 - acc: 0.9800 - val_loss: 0.0628 - val_acc: 0.9815\n",
      "Epoch 9/20\n",
      "60000/60000 [==============================] - 5s 76us/step - loss: 0.0627 - acc: 0.9815 - val_loss: 0.0833 - val_acc: 0.9744\n",
      "Epoch 10/20\n",
      "60000/60000 [==============================] - 5s 76us/step - loss: 0.0596 - acc: 0.9823 - val_loss: 0.0524 - val_acc: 0.98449 - acc: 0.\n",
      "Epoch 11/20\n",
      "60000/60000 [==============================] - 4s 74us/step - loss: 0.0562 - acc: 0.9834 - val_loss: 0.0557 - val_acc: 0.9820\n",
      "Epoch 12/20\n",
      "60000/60000 [==============================] - 4s 75us/step - loss: 0.0534 - acc: 0.9840 - val_loss: 0.0504 - val_acc: 0.9840\n",
      "Epoch 13/20\n",
      "60000/60000 [==============================] - 5s 75us/step - loss: 0.0502 - acc: 0.9848 - val_loss: 0.0699 - val_acc: 0.9770\n",
      "Epoch 14/20\n",
      "60000/60000 [==============================] - 5s 77us/step - loss: 0.0489 - acc: 0.9857 - val_loss: 0.0462 - val_acc: 0.9847\n",
      "Epoch 15/20\n",
      "60000/60000 [==============================] - 5s 77us/step - loss: 0.0467 - acc: 0.9861 - val_loss: 0.0487 - val_acc: 0.9835oss: 0.0469 -\n",
      "Epoch 16/20\n",
      "60000/60000 [==============================] - 5s 76us/step - loss: 0.0446 - acc: 0.9866 - val_loss: 0.0469 - val_acc: 0.9849\n",
      "Epoch 17/20\n",
      "60000/60000 [==============================] - 5s 75us/step - loss: 0.0424 - acc: 0.9880 - val_loss: 0.0433 - val_acc: 0.9853\n",
      "Epoch 18/20\n",
      "60000/60000 [==============================] - 4s 75us/step - loss: 0.0411 - acc: 0.9879 - val_loss: 0.0428 - val_acc: 0.9865\n",
      "Epoch 19/20\n",
      "60000/60000 [==============================] - 5s 76us/step - loss: 0.0396 - acc: 0.9882 - val_loss: 0.0430 - val_acc: 0.9863\n",
      "Epoch 20/20\n",
      "60000/60000 [==============================] - 5s 77us/step - loss: 0.0382 - acc: 0.9888 - val_loss: 0.0514 - val_acc: 0.9834\n",
      "10000/10000 [==============================] - 1s 70us/step\n",
      "Test loss: 0.0513772513207281\n",
      "Test accuracy: 0.9834\n",
      "Total Time used: 91.59467599999999\n"
     ]
    }
   ],
   "source": [
    "import time\n",
    "Timestamp1 = time.clock()\n",
    "\n",
    "model.fit(trainX, trainY,\n",
    "          batch_size=135,\n",
    "          epochs=20,\n",
    "          validation_data=(testX, testY))\n",
    " \n",
    "# 在测试数据上计算准确率。\n",
    "score = model.evaluate(testX, testY)\n",
    "\n",
    "print('Test loss:', score[0])\n",
    "print('Test accuracy:', score[1])\n",
    "Timestamp2 = time.clock()\n",
    "print(\"Total Time used:\", Timestamp2 - Timestamp1)\n",
    "K.clear_session()\n",
    "tf.keras.backend.clear_session()"
   ]
  },
  {
   "cell_type": "code",
   "execution_count": null,
   "metadata": {},
   "outputs": [],
   "source": []
  }
 ],
 "metadata": {
  "kernelspec": {
   "display_name": "Python 3",
   "language": "python",
   "name": "python3"
  },
  "language_info": {
   "codemirror_mode": {
    "name": "ipython",
    "version": 3
   },
   "file_extension": ".py",
   "mimetype": "text/x-python",
   "name": "python",
   "nbconvert_exporter": "python",
   "pygments_lexer": "ipython3",
   "version": "3.6.8"
  }
 },
 "nbformat": 4,
 "nbformat_minor": 2
}
