{
 "cells": [
  {
   "cell_type": "code",
   "execution_count": 1,
   "metadata": {},
   "outputs": [
    {
     "name": "stdout",
     "output_type": "stream",
     "text": [
      "curses is not supported on this machine (please install/reinstall curses for an optimal experience)\n",
      "Extracting E:\\mnist\\train-images-idx3-ubyte.gz\n",
      "Extracting E:\\mnist\\train-labels-idx1-ubyte.gz\n",
      "Extracting E:\\mnist\\t10k-images-idx3-ubyte.gz\n",
      "Extracting E:\\mnist\\t10k-labels-idx1-ubyte.gz\n",
      "WARNING:tensorflow:From c:\\users\\z003nh3w\\pycharmprojects\\python.36\\venv\\lib\\site-packages\\tflearn\\initializations.py:119: UniformUnitScaling.__init__ (from tensorflow.python.ops.init_ops) is deprecated and will be removed in a future version.\n",
      "Instructions for updating:\n",
      "Use tf.initializers.variance_scaling instead with distribution=uniform to get equivalent behavior.\n",
      "WARNING:tensorflow:From c:\\users\\z003nh3w\\pycharmprojects\\python.36\\venv\\lib\\site-packages\\tflearn\\objectives.py:66: calling reduce_sum (from tensorflow.python.ops.math_ops) with keep_dims is deprecated and will be removed in a future version.\n",
      "Instructions for updating:\n",
      "keep_dims is deprecated, use keepdims instead\n"
     ]
    }
   ],
   "source": [
    "#TFLearn\n",
    "import tflearn\n",
    "from tflearn.layers.core import input_data, dropout, fully_connected\n",
    "from tflearn.layers.conv import conv_2d, max_pool_2d\n",
    "from tflearn.layers.estimator import regression\n",
    " \n",
    "import tflearn.datasets.mnist as mnist\n",
    "\n",
    "trainX, trainY, testX, testY = mnist.load_data(data_dir=\"E:\\mnist\", one_hot=True)\n",
    "# 将图像数据resize成卷积卷积神经网络输入的格式。\n",
    "trainX = trainX.reshape([-1, 28, 28, 1])\n",
    "testX = testX.reshape([-1, 28, 28, 1])\n",
    " \n",
    "# 构建神经网络。\n",
    "net = input_data(shape=[None, 28, 28, 1], name='input')\n",
    "net = conv_2d(net, 32, 5, activation='relu')\n",
    "net = max_pool_2d(net, 2)\n",
    "net = conv_2d(net, 64, 5, activation='relu')\n",
    "net = max_pool_2d(net, 2)\n",
    "net = fully_connected(net, 500, activation='relu')\n",
    "net = fully_connected(net, 10, activation='softmax')\n",
    "# 定义学习任务。指定优化器为sgd，学习率为0.01，损失函数为交叉熵。\n",
    "net = regression(net, optimizer='sgd', learning_rate=0.01, loss='categorical_crossentropy')"
   ]
  },
  {
   "cell_type": "code",
   "execution_count": 2,
   "metadata": {},
   "outputs": [
    {
     "name": "stdout",
     "output_type": "stream",
     "text": [
      "Training Step: 17199  | total loss: \u001b[1m\u001b[32m0.50810\u001b[0m\u001b[0m | time: 8.894s\n",
      "| SGD | epoch: 020 | loss: 0.50810 - acc: 0.9624 -- iter: 54976/55000\n",
      "Training Step: 17200  | total loss: \u001b[1m\u001b[32m0.45825\u001b[0m\u001b[0m | time: 10.206s\n",
      "| SGD | epoch: 020 | loss: 0.45825 - acc: 0.9661 | val_loss: 0.02930 - val_acc: 0.9899 -- iter: 55000/55000\n",
      "--\n",
      "Total Time used: 222.055883\n"
     ]
    }
   ],
   "source": [
    "import time\n",
    "Timestamp1 = time.clock()\n",
    "model = tflearn.DNN(net, tensorboard_verbose=0)\n",
    "model.fit(trainX, trainY, n_epoch=20,\n",
    "          validation_set=([testX, testY]),\n",
    "          show_metric=True)\n",
    "Timestamp2 = time.clock()\n",
    "print(\"Total Time used:\", Timestamp2 - Timestamp1)"
   ]
  },
  {
   "cell_type": "code",
   "execution_count": null,
   "metadata": {},
   "outputs": [],
   "source": []
  }
 ],
 "metadata": {
  "kernelspec": {
   "display_name": "Python 3",
   "language": "python",
   "name": "python3"
  },
  "language_info": {
   "codemirror_mode": {
    "name": "ipython",
    "version": 3
   },
   "file_extension": ".py",
   "mimetype": "text/x-python",
   "name": "python",
   "nbconvert_exporter": "python",
   "pygments_lexer": "ipython3",
   "version": "3.6.8"
  }
 },
 "nbformat": 4,
 "nbformat_minor": 2
}
